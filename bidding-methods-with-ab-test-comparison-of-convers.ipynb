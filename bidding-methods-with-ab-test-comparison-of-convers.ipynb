{
 "cells": [
  {
   "cell_type": "markdown",
   "id": "38bdd705",
   "metadata": {
    "papermill": {
     "duration": 0.009845,
     "end_time": "2023-08-30T14:49:44.890497",
     "exception": false,
     "start_time": "2023-08-30T14:49:44.880652",
     "status": "completed"
    },
    "tags": []
   },
   "source": [
    "**Work Problem**"
   ]
  },
  {
   "cell_type": "markdown",
   "id": "176aef92",
   "metadata": {
    "papermill": {
     "duration": 0.008102,
     "end_time": "2023-08-30T14:49:44.907290",
     "exception": false,
     "start_time": "2023-08-30T14:49:44.899188",
     "status": "completed"
    },
    "tags": []
   },
   "source": [
    "**Facebook recently introduced a new bidding type, \"average bidding\", as an alternative to the existing bidding type called \"maximum bidding\".**\n",
    "\n",
    "**One of our clients, bombabomba.com, decided to test this new feature and would like to run an A/B test to see if average bidding brings more conversions than maximum bidding.**\n",
    "\n",
    "\n",
    "**The A/B test has been running for 1 month and bombabomba.com is now waiting for you to analyse the results of this A/B test.**\n",
    "\n",
    "**The ultimate success metric for Bombabomba.com is Purchase. Therefore, for statistical tests, the Purchase metric should be focussed on.**\n",
    "\n",
    "**Data Set Story**\n",
    "\n",
    "**This data set, which contains a company's website information, includes information such as the number of advertisements seen and clicked by users, as well as information about the earnings from these advertisements.**\n",
    "\n",
    "**There are two separate data sets as Control and Test group.** \n",
    "\n",
    "**These data sets are located in separate sheets of ab_testing.xlsx excel.**\n",
    "\n",
    "**Maximum Bidding for the control group and Average Bidding for the test group. Bidding has been implemented.**\n",
    "\n",
    "\n",
    "**impression: Number of ad views\n",
    "Click: Number of clicks on the displayed advert\n",
    "Purchase: Number of products purchased after clicked adverts\n",
    "Earning: Earning after purchased products**\n",
    "\n",
    "\n",
    "# **Project Tasks**\n",
    "\n",
    "# **Task 1: Preparing and Analysing Data**"
   ]
  },
  {
   "cell_type": "code",
   "execution_count": 1,
   "id": "f523c6ab",
   "metadata": {
    "_cell_guid": "b1076dfc-b9ad-4769-8c92-a6c4dae69d19",
    "_uuid": "8f2839f25d086af736a60e9eeb907d3b93b6e0e5",
    "execution": {
     "iopub.execute_input": "2023-08-30T14:49:44.926148Z",
     "iopub.status.busy": "2023-08-30T14:49:44.925716Z",
     "iopub.status.idle": "2023-08-30T14:49:46.614477Z",
     "shell.execute_reply": "2023-08-30T14:49:46.613179Z"
    },
    "papermill": {
     "duration": 1.701813,
     "end_time": "2023-08-30T14:49:46.617612",
     "exception": false,
     "start_time": "2023-08-30T14:49:44.915799",
     "status": "completed"
    },
    "tags": []
   },
   "outputs": [
    {
     "name": "stderr",
     "output_type": "stream",
     "text": [
      "/opt/conda/lib/python3.10/site-packages/scipy/__init__.py:146: UserWarning: A NumPy version >=1.16.5 and <1.23.0 is required for this version of SciPy (detected version 1.23.5\n",
      "  warnings.warn(f\"A NumPy version >={np_minversion} and <{np_maxversion}\"\n"
     ]
    }
   ],
   "source": [
    "import pandas as pd\n",
    "import numpy as np\n",
    "import pandas as pd\n",
    "import matplotlib.pyplot as plt\n",
    "from scipy.stats import shapiro, levene, ttest_ind\n",
    "import warnings\n",
    "warnings.simplefilter(action='ignore', category=FutureWarning)\n",
    "\n",
    "pd.set_option('display.max_columns', None)\n",
    "pd.set_option('display.expand_frame_repr', False)\n",
    "pd.set_option('display.float_format', lambda x: '%.5f' % x)\n",
    "\n",
    "dataframe_control = pd.read_excel(\"/kaggle/input/ab-test12/ab_testing.xlsx\" , sheet_name=\"Control Group\")\n",
    "dataframe_test = pd.read_excel(\"/kaggle/input/ab-test12/ab_testing.xlsx\" , sheet_name=\"Test Group\")\n",
    "\n",
    "df_control = dataframe_control.copy()\n",
    "df_test = dataframe_test.copy()"
   ]
  },
  {
   "cell_type": "markdown",
   "id": "3cafa7e3",
   "metadata": {
    "papermill": {
     "duration": 0.008251,
     "end_time": "2023-08-30T14:49:46.634571",
     "exception": false,
     "start_time": "2023-08-30T14:49:46.626320",
     "status": "completed"
    },
    "tags": []
   },
   "source": [
    "**Step 2: Analyse the control and test group data.**"
   ]
  },
  {
   "cell_type": "code",
   "execution_count": 2,
   "id": "3ab78881",
   "metadata": {
    "execution": {
     "iopub.execute_input": "2023-08-30T14:49:46.654490Z",
     "iopub.status.busy": "2023-08-30T14:49:46.653822Z",
     "iopub.status.idle": "2023-08-30T14:49:46.692729Z",
     "shell.execute_reply": "2023-08-30T14:49:46.691510Z"
    },
    "papermill": {
     "duration": 0.052337,
     "end_time": "2023-08-30T14:49:46.695449",
     "exception": false,
     "start_time": "2023-08-30T14:49:46.643112",
     "status": "completed"
    },
    "tags": []
   },
   "outputs": [
    {
     "name": "stdout",
     "output_type": "stream",
     "text": [
      "##################### Shape #####################\n",
      "(40, 4)\n",
      "##################### Types #####################\n",
      "Impression    float64\n",
      "Click         float64\n",
      "Purchase      float64\n",
      "Earning       float64\n",
      "dtype: object\n",
      "##################### Head #####################\n",
      "    Impression      Click  Purchase    Earning\n",
      "0  82529.45927 6090.07732 665.21125 2311.27714\n",
      "1  98050.45193 3382.86179 315.08489 1742.80686\n",
      "2  82696.02355 4167.96575 458.08374 1797.82745\n",
      "3 109914.40040 4910.88224 487.09077 1696.22918\n",
      "4 108457.76263 5987.65581 441.03405 1543.72018\n",
      "##################### Tail #####################\n",
      "     Impression      Click  Purchase    Earning\n",
      "35 132064.21900 3747.15754 551.07241 2256.97559\n",
      "36  86409.94180 4608.25621 345.04603 1781.35769\n",
      "37 123678.93423 3649.07379 476.16813 2187.72122\n",
      "38 101997.49410 4736.35337 474.61354 2254.56383\n",
      "39 121085.88122 4285.17861 590.40602 1289.30895\n",
      "##################### NA #####################\n",
      "Impression    0\n",
      "Click         0\n",
      "Purchase      0\n",
      "Earning       0\n",
      "dtype: int64\n",
      "##################### Quantiles #####################\n",
      "               0.00000     0.05000     0.50000      0.95000      0.99000      1.00000\n",
      "Impression 45475.94296 79412.01792 99790.70108 132950.53245 143105.79110 147539.33633\n",
      "Click       2189.75316  3367.48426  5001.22060   7374.36120   7761.79511   7959.12507\n",
      "Purchase     267.02894   328.66242   531.20631    748.27076    790.18779    801.79502\n",
      "Earning     1253.98952  1329.57708  1975.16052   2318.52850   2481.30874   2497.29522\n",
      "##################### Shape #####################\n",
      "(40, 4)\n",
      "##################### Types #####################\n",
      "Impression    float64\n",
      "Click         float64\n",
      "Purchase      float64\n",
      "Earning       float64\n",
      "dtype: object\n",
      "##################### Head #####################\n",
      "    Impression      Click  Purchase    Earning\n",
      "0 120103.50380 3216.54796 702.16035 1939.61124\n",
      "1 134775.94336 3635.08242 834.05429 2929.40582\n",
      "2 107806.62079 3057.14356 422.93426 2526.24488\n",
      "3 116445.27553 4650.47391 429.03353 2281.42857\n",
      "4 145082.51684 5201.38772 749.86044 2781.69752\n",
      "##################### Tail #####################\n",
      "     Impression      Click  Purchase    Earning\n",
      "35  79234.91193 6002.21358 382.04712 2277.86398\n",
      "36 130702.23941 3626.32007 449.82459 2530.84133\n",
      "37 116481.87337 4702.78247 472.45373 2597.91763\n",
      "38  79033.83492 4495.42818 425.35910 2595.85788\n",
      "39 102257.45409 4800.06832 521.31073 2967.51839\n",
      "##################### NA #####################\n",
      "Impression    0\n",
      "Click         0\n",
      "Purchase      0\n",
      "Earning       0\n",
      "dtype: int64\n",
      "##################### Quantiles #####################\n",
      "               0.00000     0.05000      0.50000      0.95000      0.99000      1.00000\n",
      "Impression 79033.83492 83150.50378 119291.30077 153178.69106 158245.26380 158605.92048\n",
      "Click       1836.62986  2600.36102   3931.35980   5271.18691   6012.87730   6019.69508\n",
      "Purchase     311.62952   356.69540    551.35573    854.20895    876.57610    889.91046\n",
      "Earning     1939.61124  2080.97621   2544.66611   2931.31145   3091.94089   3171.48971\n"
     ]
    }
   ],
   "source": [
    "\n",
    "def check_df(dataframe, head=5):\n",
    "    print(\"##################### Shape #####################\")\n",
    "    print(dataframe.shape)\n",
    "    print(\"##################### Types #####################\")\n",
    "    print(dataframe.dtypes)\n",
    "    print(\"##################### Head #####################\")\n",
    "    print(dataframe.head())\n",
    "    print(\"##################### Tail #####################\")\n",
    "    print(dataframe.tail())\n",
    "    print(\"##################### NA #####################\")\n",
    "    print(dataframe.isnull().sum())\n",
    "    print(\"##################### Quantiles #####################\")\n",
    "    print(dataframe.quantile([0, 0.05, 0.50, 0.95, 0.99, 1]).T)\n",
    "\n",
    "check_df(df_control)\n",
    "check_df(df_test)"
   ]
  },
  {
   "cell_type": "markdown",
   "id": "e57a1129",
   "metadata": {
    "papermill": {
     "duration": 0.008647,
     "end_time": "2023-08-30T14:49:46.713887",
     "exception": false,
     "start_time": "2023-08-30T14:49:46.705240",
     "status": "completed"
    },
    "tags": []
   },
   "source": [
    "**Step 3: After the analysis, combine the control and test group data using the concat method.**"
   ]
  },
  {
   "cell_type": "code",
   "execution_count": 3,
   "id": "0a345657",
   "metadata": {
    "execution": {
     "iopub.execute_input": "2023-08-30T14:49:46.735029Z",
     "iopub.status.busy": "2023-08-30T14:49:46.734244Z",
     "iopub.status.idle": "2023-08-30T14:49:46.751702Z",
     "shell.execute_reply": "2023-08-30T14:49:46.750703Z"
    },
    "papermill": {
     "duration": 0.030459,
     "end_time": "2023-08-30T14:49:46.754481",
     "exception": false,
     "start_time": "2023-08-30T14:49:46.724022",
     "status": "completed"
    },
    "tags": []
   },
   "outputs": [
    {
     "data": {
      "text/html": [
       "<div>\n",
       "<style scoped>\n",
       "    .dataframe tbody tr th:only-of-type {\n",
       "        vertical-align: middle;\n",
       "    }\n",
       "\n",
       "    .dataframe tbody tr th {\n",
       "        vertical-align: top;\n",
       "    }\n",
       "\n",
       "    .dataframe thead th {\n",
       "        text-align: right;\n",
       "    }\n",
       "</style>\n",
       "<table border=\"1\" class=\"dataframe\">\n",
       "  <thead>\n",
       "    <tr style=\"text-align: right;\">\n",
       "      <th></th>\n",
       "      <th>Impression</th>\n",
       "      <th>Click</th>\n",
       "      <th>Purchase</th>\n",
       "      <th>Earning</th>\n",
       "      <th>group</th>\n",
       "    </tr>\n",
       "  </thead>\n",
       "  <tbody>\n",
       "    <tr>\n",
       "      <th>0</th>\n",
       "      <td>82529.45927</td>\n",
       "      <td>6090.07732</td>\n",
       "      <td>665.21125</td>\n",
       "      <td>2311.27714</td>\n",
       "      <td>control</td>\n",
       "    </tr>\n",
       "    <tr>\n",
       "      <th>1</th>\n",
       "      <td>98050.45193</td>\n",
       "      <td>3382.86179</td>\n",
       "      <td>315.08489</td>\n",
       "      <td>1742.80686</td>\n",
       "      <td>control</td>\n",
       "    </tr>\n",
       "    <tr>\n",
       "      <th>2</th>\n",
       "      <td>82696.02355</td>\n",
       "      <td>4167.96575</td>\n",
       "      <td>458.08374</td>\n",
       "      <td>1797.82745</td>\n",
       "      <td>control</td>\n",
       "    </tr>\n",
       "    <tr>\n",
       "      <th>3</th>\n",
       "      <td>109914.40040</td>\n",
       "      <td>4910.88224</td>\n",
       "      <td>487.09077</td>\n",
       "      <td>1696.22918</td>\n",
       "      <td>control</td>\n",
       "    </tr>\n",
       "    <tr>\n",
       "      <th>4</th>\n",
       "      <td>108457.76263</td>\n",
       "      <td>5987.65581</td>\n",
       "      <td>441.03405</td>\n",
       "      <td>1543.72018</td>\n",
       "      <td>control</td>\n",
       "    </tr>\n",
       "  </tbody>\n",
       "</table>\n",
       "</div>"
      ],
      "text/plain": [
       "    Impression      Click  Purchase    Earning    group\n",
       "0  82529.45927 6090.07732 665.21125 2311.27714  control\n",
       "1  98050.45193 3382.86179 315.08489 1742.80686  control\n",
       "2  82696.02355 4167.96575 458.08374 1797.82745  control\n",
       "3 109914.40040 4910.88224 487.09077 1696.22918  control\n",
       "4 108457.76263 5987.65581 441.03405 1543.72018  control"
      ]
     },
     "execution_count": 3,
     "metadata": {},
     "output_type": "execute_result"
    }
   ],
   "source": [
    "df_control[\"group\"] = \"control\"\n",
    "df_test[\"group\"] = \"test\"\n",
    "\n",
    "df = pd.concat([df_control,df_test], axis=0,ignore_index=False)\n",
    "df.head()\n"
   ]
  },
  {
   "cell_type": "code",
   "execution_count": 4,
   "id": "01158362",
   "metadata": {
    "execution": {
     "iopub.execute_input": "2023-08-30T14:49:46.776240Z",
     "iopub.status.busy": "2023-08-30T14:49:46.775033Z",
     "iopub.status.idle": "2023-08-30T14:49:46.788583Z",
     "shell.execute_reply": "2023-08-30T14:49:46.787258Z"
    },
    "papermill": {
     "duration": 0.027211,
     "end_time": "2023-08-30T14:49:46.791217",
     "exception": false,
     "start_time": "2023-08-30T14:49:46.764006",
     "status": "completed"
    },
    "tags": []
   },
   "outputs": [
    {
     "data": {
      "text/html": [
       "<div>\n",
       "<style scoped>\n",
       "    .dataframe tbody tr th:only-of-type {\n",
       "        vertical-align: middle;\n",
       "    }\n",
       "\n",
       "    .dataframe tbody tr th {\n",
       "        vertical-align: top;\n",
       "    }\n",
       "\n",
       "    .dataframe thead th {\n",
       "        text-align: right;\n",
       "    }\n",
       "</style>\n",
       "<table border=\"1\" class=\"dataframe\">\n",
       "  <thead>\n",
       "    <tr style=\"text-align: right;\">\n",
       "      <th></th>\n",
       "      <th>Impression</th>\n",
       "      <th>Click</th>\n",
       "      <th>Purchase</th>\n",
       "      <th>Earning</th>\n",
       "      <th>group</th>\n",
       "    </tr>\n",
       "  </thead>\n",
       "  <tbody>\n",
       "    <tr>\n",
       "      <th>35</th>\n",
       "      <td>79234.91193</td>\n",
       "      <td>6002.21358</td>\n",
       "      <td>382.04712</td>\n",
       "      <td>2277.86398</td>\n",
       "      <td>test</td>\n",
       "    </tr>\n",
       "    <tr>\n",
       "      <th>36</th>\n",
       "      <td>130702.23941</td>\n",
       "      <td>3626.32007</td>\n",
       "      <td>449.82459</td>\n",
       "      <td>2530.84133</td>\n",
       "      <td>test</td>\n",
       "    </tr>\n",
       "    <tr>\n",
       "      <th>37</th>\n",
       "      <td>116481.87337</td>\n",
       "      <td>4702.78247</td>\n",
       "      <td>472.45373</td>\n",
       "      <td>2597.91763</td>\n",
       "      <td>test</td>\n",
       "    </tr>\n",
       "    <tr>\n",
       "      <th>38</th>\n",
       "      <td>79033.83492</td>\n",
       "      <td>4495.42818</td>\n",
       "      <td>425.35910</td>\n",
       "      <td>2595.85788</td>\n",
       "      <td>test</td>\n",
       "    </tr>\n",
       "    <tr>\n",
       "      <th>39</th>\n",
       "      <td>102257.45409</td>\n",
       "      <td>4800.06832</td>\n",
       "      <td>521.31073</td>\n",
       "      <td>2967.51839</td>\n",
       "      <td>test</td>\n",
       "    </tr>\n",
       "  </tbody>\n",
       "</table>\n",
       "</div>"
      ],
      "text/plain": [
       "     Impression      Click  Purchase    Earning group\n",
       "35  79234.91193 6002.21358 382.04712 2277.86398  test\n",
       "36 130702.23941 3626.32007 449.82459 2530.84133  test\n",
       "37 116481.87337 4702.78247 472.45373 2597.91763  test\n",
       "38  79033.83492 4495.42818 425.35910 2595.85788  test\n",
       "39 102257.45409 4800.06832 521.31073 2967.51839  test"
      ]
     },
     "execution_count": 4,
     "metadata": {},
     "output_type": "execute_result"
    }
   ],
   "source": [
    "df.tail()"
   ]
  },
  {
   "cell_type": "markdown",
   "id": "ee744e7a",
   "metadata": {
    "papermill": {
     "duration": 0.009076,
     "end_time": "2023-08-30T14:49:46.809842",
     "exception": false,
     "start_time": "2023-08-30T14:49:46.800766",
     "status": "completed"
    },
    "tags": []
   },
   "source": [
    "# **Task 2: Defining the Hypothesis of the A/B Test**"
   ]
  },
  {
   "cell_type": "markdown",
   "id": "c0b65a2a",
   "metadata": {
    "papermill": {
     "duration": 0.00959,
     "end_time": "2023-08-30T14:49:46.828763",
     "exception": false,
     "start_time": "2023-08-30T14:49:46.819173",
     "status": "completed"
    },
    "tags": []
   },
   "source": [
    "**Step 1: Define the hypothesis.**\n",
    "\n",
    "* **H0 : M1 = M2 (There is no difference between control group and test group purchase averages.)**\n",
    " \n",
    "\n",
    "* **H1 : M1!= M2 (There is a difference between control group and test group purchase averages.)**\n",
    " \n"
   ]
  },
  {
   "cell_type": "markdown",
   "id": "8c17dc79",
   "metadata": {
    "papermill": {
     "duration": 0.00946,
     "end_time": "2023-08-30T14:49:46.848253",
     "exception": false,
     "start_time": "2023-08-30T14:49:46.838793",
     "status": "completed"
    },
    "tags": []
   },
   "source": [
    "**Step 2: Analyse the mean purchase (gain) for the control and test group**"
   ]
  },
  {
   "cell_type": "code",
   "execution_count": 5,
   "id": "bedfa48d",
   "metadata": {
    "execution": {
     "iopub.execute_input": "2023-08-30T14:49:46.871249Z",
     "iopub.status.busy": "2023-08-30T14:49:46.869175Z",
     "iopub.status.idle": "2023-08-30T14:49:46.891948Z",
     "shell.execute_reply": "2023-08-30T14:49:46.890758Z"
    },
    "papermill": {
     "duration": 0.03643,
     "end_time": "2023-08-30T14:49:46.894567",
     "exception": false,
     "start_time": "2023-08-30T14:49:46.858137",
     "status": "completed"
    },
    "tags": []
   },
   "outputs": [
    {
     "data": {
      "text/html": [
       "<div>\n",
       "<style scoped>\n",
       "    .dataframe tbody tr th:only-of-type {\n",
       "        vertical-align: middle;\n",
       "    }\n",
       "\n",
       "    .dataframe tbody tr th {\n",
       "        vertical-align: top;\n",
       "    }\n",
       "\n",
       "    .dataframe thead th {\n",
       "        text-align: right;\n",
       "    }\n",
       "</style>\n",
       "<table border=\"1\" class=\"dataframe\">\n",
       "  <thead>\n",
       "    <tr style=\"text-align: right;\">\n",
       "      <th></th>\n",
       "      <th>Purchase</th>\n",
       "    </tr>\n",
       "    <tr>\n",
       "      <th>group</th>\n",
       "      <th></th>\n",
       "    </tr>\n",
       "  </thead>\n",
       "  <tbody>\n",
       "    <tr>\n",
       "      <th>control</th>\n",
       "      <td>550.89406</td>\n",
       "    </tr>\n",
       "    <tr>\n",
       "      <th>test</th>\n",
       "      <td>582.10610</td>\n",
       "    </tr>\n",
       "  </tbody>\n",
       "</table>\n",
       "</div>"
      ],
      "text/plain": [
       "         Purchase\n",
       "group            \n",
       "control 550.89406\n",
       "test    582.10610"
      ]
     },
     "execution_count": 5,
     "metadata": {},
     "output_type": "execute_result"
    }
   ],
   "source": [
    "df.groupby(\"group\").agg({\"Purchase\": \"mean\"})"
   ]
  },
  {
   "cell_type": "markdown",
   "id": "ca03efd2",
   "metadata": {
    "papermill": {
     "duration": 0.00922,
     "end_time": "2023-08-30T14:49:46.913287",
     "exception": false,
     "start_time": "2023-08-30T14:49:46.904067",
     "status": "completed"
    },
    "tags": []
   },
   "source": [
    "# **TASK 3: Hypothesis Testing**"
   ]
  },
  {
   "cell_type": "markdown",
   "id": "a36baf66",
   "metadata": {
    "papermill": {
     "duration": 0.009547,
     "end_time": "2023-08-30T14:49:46.932319",
     "exception": false,
     "start_time": "2023-08-30T14:49:46.922772",
     "status": "completed"
    },
    "tags": []
   },
   "source": [
    "**Step 1: Make assumption checks before hypothesis testing. These are the Assumption of Normality and Homogeneity of Variance.**\n",
    "\n",
    "**Test whether the control and test groups separately meet the normality assumption on the Purchase variable**\n",
    "# Assumption of Normality :\n",
    "\n",
    "* **H0: The assumption of normal distribution is met.**\n",
    " \n",
    "* **H1: The assumption of normal distribution is not met**\n",
    "\n",
    "* **p < 0.05 H0 is rejected.**\n",
    "\n",
    "* **p > 0.05 H0 cannot be rejected.**\n",
    "\n",
    "\n",
    "**According to the test result, does the normality assumption for the control and test groups hold?**\n",
    "\n",
    "**Interpret the p-values obtained.**"
   ]
  },
  {
   "cell_type": "code",
   "execution_count": 6,
   "id": "9b70fbe8",
   "metadata": {
    "execution": {
     "iopub.execute_input": "2023-08-30T14:49:46.954804Z",
     "iopub.status.busy": "2023-08-30T14:49:46.954009Z",
     "iopub.status.idle": "2023-08-30T14:49:46.962718Z",
     "shell.execute_reply": "2023-08-30T14:49:46.961184Z"
    },
    "papermill": {
     "duration": 0.022702,
     "end_time": "2023-08-30T14:49:46.965182",
     "exception": false,
     "start_time": "2023-08-30T14:49:46.942480",
     "status": "completed"
    },
    "tags": []
   },
   "outputs": [
    {
     "name": "stdout",
     "output_type": "stream",
     "text": [
      "Test Stat = 0.9773, p-value = 0.5891\n"
     ]
    }
   ],
   "source": [
    "test_stat, pvalue = shapiro(df.loc[df[\"group\"] == \"control\", \"Purchase\"])\n",
    "print('Test Stat = %.4f, p-value = %.4f' % (test_stat, pvalue))"
   ]
  },
  {
   "cell_type": "markdown",
   "id": "4491b6f9",
   "metadata": {
    "papermill": {
     "duration": 0.009343,
     "end_time": "2023-08-30T14:49:46.984313",
     "exception": false,
     "start_time": "2023-08-30T14:49:46.974970",
     "status": "completed"
    },
    "tags": []
   },
   "source": [
    "**p-value=0.5891\n",
    "H0 cannot be rejected. The values of the control group fulfil the assumption of normal distribution.**"
   ]
  },
  {
   "cell_type": "markdown",
   "id": "c440c7c7",
   "metadata": {
    "papermill": {
     "duration": 0.00965,
     "end_time": "2023-08-30T14:49:47.003979",
     "exception": false,
     "start_time": "2023-08-30T14:49:46.994329",
     "status": "completed"
    },
    "tags": []
   },
   "source": [
    "# Homogeneity of Variance :\n",
    "\n",
    "* **H0: Variances are homogeneous.**\n",
    "* **H1: Variances are not homogeneous.**\n",
    "\n",
    "* **p < 0.05 H0 is rejected.**\n",
    "\n",
    "* **p > 0.05 H0 cannot be rejected.**\n",
    "\n",
    "**Test whether homogeneity of variance is achieved for the control and test groups on the Purchase variable.**\n",
    "\n",
    "**Is the normality assumption met according to the test result? Interpret the p-values obtained.**"
   ]
  },
  {
   "cell_type": "code",
   "execution_count": 7,
   "id": "1bf4daa0",
   "metadata": {
    "execution": {
     "iopub.execute_input": "2023-08-30T14:49:47.025603Z",
     "iopub.status.busy": "2023-08-30T14:49:47.024930Z",
     "iopub.status.idle": "2023-08-30T14:49:47.034609Z",
     "shell.execute_reply": "2023-08-30T14:49:47.033294Z"
    },
    "papermill": {
     "duration": 0.023228,
     "end_time": "2023-08-30T14:49:47.037059",
     "exception": false,
     "start_time": "2023-08-30T14:49:47.013831",
     "status": "completed"
    },
    "tags": []
   },
   "outputs": [
    {
     "name": "stdout",
     "output_type": "stream",
     "text": [
      "Test Stat = 2.6393, p-value = 0.1083\n"
     ]
    }
   ],
   "source": [
    "test_stat, pvalue = levene(df.loc[df[\"group\"] == \"control\", \"Purchase\"],\n",
    "                           df.loc[df[\"group\"] == \"test\", \"Purchase\"])\n",
    "print('Test Stat = %.4f, p-value = %.4f' % (test_stat, pvalue))"
   ]
  },
  {
   "cell_type": "markdown",
   "id": "1c449290",
   "metadata": {
    "papermill": {
     "duration": 0.009762,
     "end_time": "2023-08-30T14:49:47.057298",
     "exception": false,
     "start_time": "2023-08-30T14:49:47.047536",
     "status": "completed"
    },
    "tags": []
   },
   "source": [
    "**p-value=0.1083\n",
    "H0 cannot be rejected. The values of the Control and Test group satisfy the assumption of variance homogeneity.\n",
    "Variances are homogeneous.**"
   ]
  },
  {
   "cell_type": "markdown",
   "id": "da7a04d0",
   "metadata": {
    "papermill": {
     "duration": 0.009698,
     "end_time": "2023-08-30T14:49:47.077367",
     "exception": false,
     "start_time": "2023-08-30T14:49:47.067669",
     "status": "completed"
    },
    "tags": []
   },
   "source": [
    "**Step 2: Select the appropriate test based on the Assumption of Normality and Homogeneity of Variance results**\n",
    "\n",
    "**Since the assumptions are met, an independent two sample t test (parametric test) is performed.**\n",
    "\n",
    "* **H0: M1 = M2 (There is no statistically significant difference between the control group and test group purchase averages)**\n",
    "* **H1: M1 != M2 (There is a statistically significant difference between the control group and test group purchase averages)**\n",
    "* **p < 0.05 H0 is rejected.**\n",
    "\n",
    "* **p > 0.05 H0 cannot be rejected.**"
   ]
  },
  {
   "cell_type": "code",
   "execution_count": 8,
   "id": "9362fcaf",
   "metadata": {
    "execution": {
     "iopub.execute_input": "2023-08-30T14:49:47.101097Z",
     "iopub.status.busy": "2023-08-30T14:49:47.100433Z",
     "iopub.status.idle": "2023-08-30T14:49:47.110424Z",
     "shell.execute_reply": "2023-08-30T14:49:47.109027Z"
    },
    "papermill": {
     "duration": 0.025348,
     "end_time": "2023-08-30T14:49:47.112921",
     "exception": false,
     "start_time": "2023-08-30T14:49:47.087573",
     "status": "completed"
    },
    "tags": []
   },
   "outputs": [
    {
     "name": "stdout",
     "output_type": "stream",
     "text": [
      "Test Stat = -0.9416, p-value = 0.3493\n"
     ]
    }
   ],
   "source": [
    "test_stat, pvalue = ttest_ind(df.loc[df[\"group\"] == \"control\", \"Purchase\"],\n",
    "                              df.loc[df[\"group\"] == \"test\", \"Purchase\"],\n",
    "                              equal_var=True)\n",
    "\n",
    "print('Test Stat = %.4f, p-value = %.4f' % (test_stat, pvalue))"
   ]
  },
  {
   "cell_type": "markdown",
   "id": "349c338c",
   "metadata": {
    "papermill": {
     "duration": 0.009743,
     "end_time": "2023-08-30T14:49:47.132594",
     "exception": false,
     "start_time": "2023-08-30T14:49:47.122851",
     "status": "completed"
    },
    "tags": []
   },
   "source": [
    "**Step 3: Considering the p_value obtained as a result of the test, the control and test group purchase interpret whether there is a statistically significant difference between the averages.**\n",
    "\n",
    "**p-value=0.3493**\n",
    "**HO cannot be rejected. There is no statistically significant difference between the control and test group purchase averages.**"
   ]
  }
 ],
 "kernelspec": {
  "display_name": "Python 3",
  "language": "python",
  "name": "python3"
 },
 "language_info": {
  "codemirror_mode": {
   "name": "ipython",
   "version": 3
  },
  "file_extension": ".py",
  "mimetype": "text/x-python",
  "name": "python",
  "nbconvert_exporter": "python",
  "pygments_lexer": "ipython3",
  "version": "3.6.4"
 },
 "metadata": {
  "kernelspec": {
   "display_name": "Python 3",
   "language": "python",
   "name": "python3"
  },
  "language_info": {
   "codemirror_mode": {
    "name": "ipython",
    "version": 3
   },
   "file_extension": ".py",
   "mimetype": "text/x-python",
   "name": "python",
   "nbconvert_exporter": "python",
   "pygments_lexer": "ipython3",
   "version": "3.10.12"
  },
  "papermill": {
   "default_parameters": {},
   "duration": 17.336261,
   "end_time": "2023-08-30T14:49:48.165927",
   "environment_variables": {},
   "exception": null,
   "input_path": "__notebook__.ipynb",
   "output_path": "__notebook__.ipynb",
   "parameters": {},
   "start_time": "2023-08-30T14:49:30.829666",
   "version": "2.4.0"
  }
 },
 "nbformat": 4,
 "nbformat_minor": 5
}
